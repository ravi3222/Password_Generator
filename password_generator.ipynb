{
 "cells": [
  {
   "cell_type": "markdown",
   "metadata": {},
   "source": [
    "<h2 id=\"valid\">Project: Password Generator</h2>"
   ]
  },
  {
   "cell_type": "markdown",
   "metadata": {},
   "source": [
    "Create a function, `password`, that automatically generates a password for us.\n",
    "\n",
    "The password must be subject to ALL of the following requirements:\n",
    " - It must be 8 characters long.\n",
    " \n",
    "\n",
    " - It must contain at least one uppercase character from\n",
    " \n",
    "        ABCDEFGHIJKLMNOPQRSTUVWXYZ\n",
    "        \n",
    " - It must contain at least one lowercase character from\n",
    " \n",
    "        abcdefghijklmnopqrstuvwxyz\n",
    "         \n",
    " - It must contain one punctuation mark from\n",
    " \n",
    "        !\"#$%&\\'()*+,-./:;<=>?@[\\\\]^_\\`{|}~\n",
    "        \n",
    " - It must contain one digit from\n",
    " \n",
    "        0123456789\n",
    "        \n",
    " - It must be random."
   ]
  },
  {
   "cell_type": "markdown",
   "metadata": {},
   "source": [
    "We provide the following examples:\n",
    "    \n",
    "    Pa$sw0rd [valid]\n",
    "    \n",
    "    pa$$w0rd [invalid; no uppercase]\n",
    "    \n",
    "    Passw0rd [invalid: no punctuation]\n",
    "    \n",
    "    Pa$w0rd  [invalid; only 7 characters]"
   ]
  },
  {
   "cell_type": "code",
   "execution_count": 33,
   "metadata": {
    "collapsed": true
   },
   "outputs": [],
   "source": [
    "def valid(password):\n",
    "    if len(password) != 8:\n",
    "        return False\n",
    "    return True"
   ]
  },
  {
   "cell_type": "code",
   "execution_count": 34,
   "metadata": {
    "collapsed": false
   },
   "outputs": [
    {
     "name": "stdout",
     "output_type": "stream",
     "text": [
      "False\n",
      "True\n"
     ]
    }
   ],
   "source": [
    "print(valid('Pa$word'))\n",
    "print(valid('Pa$sword'))"
   ]
  },
  {
   "cell_type": "code",
   "execution_count": 35,
   "metadata": {
    "collapsed": false
   },
   "outputs": [
    {
     "name": "stdout",
     "output_type": "stream",
     "text": [
      "False\n",
      "True\n"
     ]
    }
   ],
   "source": [
    "from string import ascii_uppercase, ascii_lowercase, digits, punctuation\n",
    "\n",
    "def valid(password):\n",
    "    if len(password) != 8:\n",
    "        return False\n",
    "    \n",
    "    has_uppercase = False    \n",
    "    for c in ascii_uppercase:\n",
    "        if c in password:\n",
    "            has_uppercase = True\n",
    "    \n",
    "    return has_uppercase\n",
    "        \n",
    "    \n",
    "print(valid('pas$word'))\n",
    "print(valid('Pa$sword'))"
   ]
  },
  {
   "cell_type": "code",
   "execution_count": 36,
   "metadata": {
    "collapsed": false
   },
   "outputs": [
    {
     "name": "stdout",
     "output_type": "stream",
     "text": [
      "True\n",
      "False\n"
     ]
    }
   ],
   "source": [
    "def valid(password):\n",
    "    if len(password) != 8:\n",
    "        return False\n",
    "    \n",
    "    has_uppercase = False    \n",
    "    for c in ascii_uppercase:\n",
    "        if c in password:\n",
    "            has_uppercase = True\n",
    "    \n",
    "    has_lowercase = False\n",
    "    for c in ascii_lowercase:\n",
    "        if c in password:\n",
    "            has_lowercase = True\n",
    "    \n",
    "    has_digit = False\n",
    "    for c in digits:\n",
    "        if c in password:\n",
    "            has_digit = True\n",
    "            \n",
    "    has_punct = False\n",
    "    for c in punctuation:\n",
    "        if c in password:\n",
    "            has_punct = True\n",
    "    \n",
    "    return has_uppercase and has_lowercase and has_digit and has_punct        \n",
    "    \n",
    "print(valid('Pa$sw0rd'))\n",
    "print(valid('Passw0rd'))"
   ]
  },
  {
   "cell_type": "code",
   "execution_count": 66,
   "metadata": {
    "collapsed": false
   },
   "outputs": [],
   "source": [
    "from random import choice\n",
    "\n",
    "all_symbols = ascii_uppercase + ascii_lowercase + digits + punctuation\n",
    "\n",
    "def random_string():    \n",
    "    chars = []\n",
    "    for _ in range(8):\n",
    "        symbol = choice(all_symbols)\n",
    "        chars.append(symbol)\n",
    "    password = ''.join(chars)\n",
    "    return password"
   ]
  },
  {
   "cell_type": "code",
   "execution_count": 86,
   "metadata": {
    "collapsed": false
   },
   "outputs": [
    {
     "data": {
      "text/plain": [
       "'qYn2C#mY'"
      ]
     },
     "execution_count": 86,
     "metadata": {},
     "output_type": "execute_result"
    }
   ],
   "source": [
    "random_string()"
   ]
  },
  {
   "cell_type": "code",
   "execution_count": 39,
   "metadata": {
    "collapsed": false
   },
   "outputs": [
    {
     "data": {
      "text/plain": [
       "'ABCDEFGHIJKLMNOPQRSTUVWXYZabcdefghijklmnopqrstuvwxyz0123456789!\"#$%&\\'()*+,-./:;<=>?@[\\\\]^_`{|}~'"
      ]
     },
     "execution_count": 39,
     "metadata": {},
     "output_type": "execute_result"
    }
   ],
   "source": [
    "all_symbols"
   ]
  },
  {
   "cell_type": "code",
   "execution_count": 68,
   "metadata": {
    "collapsed": false
   },
   "outputs": [],
   "source": [
    "def make_password():\n",
    "    password = ''\n",
    "    while not valid(password):\n",
    "        password = random_string()\n",
    "    return password"
   ]
  },
  {
   "cell_type": "code",
   "execution_count": 88,
   "metadata": {
    "collapsed": false
   },
   "outputs": [
    {
     "name": "stdout",
     "output_type": "stream",
     "text": [
      "Your password is: @KF*#6cW\n"
     ]
    }
   ],
   "source": [
    "pw = make_password()\n",
    "assert valid(pw)\n",
    "print('Your password is:', pw)"
   ]
  },
  {
   "cell_type": "code",
   "execution_count": 76,
   "metadata": {
    "collapsed": true
   },
   "outputs": [],
   "source": [
    "from random import choice, shuffle\n",
    "from string import ascii_uppercase, ascii_lowercase, digits, punctuation\n",
    "\n",
    "all_symbols = ascii_uppercase + ascii_lowercase + digits + punctuation\n",
    "\n",
    "def make_password():\n",
    "    chars = []\n",
    "    chars.append(choice(ascii_uppercase))\n",
    "    chars.append(choice(ascii_lowercase))\n",
    "    chars.append(choice(digits))\n",
    "    chars.append(choice(punctuation))\n",
    "    for _ in range(4):\n",
    "        chars.append(choice(all_symbols))\n",
    "    shuffle(chars)\n",
    "    password = ''.join(chars)\n",
    "    return password"
   ]
  },
  {
   "cell_type": "code",
   "execution_count": 81,
   "metadata": {
    "collapsed": false
   },
   "outputs": [
    {
     "name": "stdout",
     "output_type": "stream",
     "text": [
      "Your password is: a92whw/C\n"
     ]
    }
   ],
   "source": [
    "pw = make_password()\n",
    "assert valid(pw)\n",
    "print('Your password is:', pw)"
   ]
  },
  {
   "cell_type": "code",
   "execution_count": 83,
   "metadata": {
    "collapsed": false
   },
   "outputs": [],
   "source": [
    "from string import ascii_uppercase, ascii_lowercase, digits, punctuation\n",
    "\n",
    "def valid(password):\n",
    "    has_uppercase   = set(ascii_uppercase) & set(password)\n",
    "    has_lowercase   = set(ascii_lowercase) & set(password)\n",
    "    has_digit       = set(digits) & set(password)\n",
    "    has_punctuation = set(punctuation) & set(password)\n",
    "    return len(password) == 8 and has_uppercase and has_lowercase and has_digit and has_punctuation    "
   ]
  },
  {
   "cell_type": "code",
   "execution_count": null,
   "metadata": {
    "collapsed": true
   },
   "outputs": [],
   "source": []
  }
 ],
 "metadata": {
  "kernelspec": {
   "display_name": "Python 3",
   "language": "python",
   "name": "python3"
  },
  "language_info": {
   "codemirror_mode": {
    "name": "ipython",
    "version": 3
   },
   "file_extension": ".py",
   "mimetype": "text/x-python",
   "name": "python",
   "nbconvert_exporter": "python",
   "pygments_lexer": "ipython3",
   "version": "3.6.0"
  }
 },
 "nbformat": 4,
 "nbformat_minor": 2
}
